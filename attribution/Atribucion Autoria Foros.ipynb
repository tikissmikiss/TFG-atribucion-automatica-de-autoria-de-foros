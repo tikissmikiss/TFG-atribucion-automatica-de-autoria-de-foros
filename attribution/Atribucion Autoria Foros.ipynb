{
 "cells": [
  {
   "cell_type": "markdown",
   "metadata": {},
   "source": [
    "# Atribución Automática de Autoría de publicaciones en foros\n",
    "\n",
    "#### Solución de software para la asignatura de TFG del Grado en Ingeniería Informática de la UNIR\n",
    "\n",
    "###### Autor: José Herce Preciado"
   ]
  },
  {
   "cell_type": "code",
   "execution_count": 1,
   "metadata": {
    "ExecuteTime": {
     "end_time": "2023-07-08T19:45:49.384832500Z",
     "start_time": "2023-07-08T19:45:47.804973600Z"
    }
   },
   "outputs": [],
   "source": [
    "from tfg.textmining.preprocessing import show_statistics"
   ]
  },
  {
   "cell_type": "markdown",
   "metadata": {},
   "source": [
    "## PARÁMETROS CONFIGURACIÓN EXPERIMENTO"
   ]
  },
  {
   "cell_type": "code",
   "execution_count": 2,
   "metadata": {
    "ExecuteTime": {
     "end_time": "2023-07-08T19:45:49.400832900Z",
     "start_time": "2023-07-08T19:45:49.389833500Z"
    }
   },
   "outputs": [],
   "source": [
    "###############################################################################\n",
    "# Manipulación de los datos\n",
    "###############################################################################\n",
    "origen_datos = \"mongo\"  # \"local\" o \"mongo\" - Si \"local\" se cargará el dataset desde el disco. Si \"mongo\" se cargará desde la base de datos.\n",
    "save_preprocessed_temp = False  # Si True, se guardará el dataset preprocesado en el disco.\n",
    "# Anonimización de los datos - Si True, se guardará el dataset anonimizado en la base de datos\n",
    "anonymize_and_save = False  # Si False, se anonimizarán los datos pero no se guardarán en la base de datos\n",
    "collection_name = \"anonimizado_util\"  # Nombre de la colección en la que se guardarán los datos anonimizados\n",
    "collection_data = \"anonymized_posts_100\"  # Nombre de la colección del data set\n",
    "\n",
    "collection = collection_data\n",
    "\n",
    "###############################################################################\n",
    "# Preprocesamiento de los datos\n",
    "###############################################################################\n",
    "description = \"Prueba\"\n",
    "n_authors = 3  # 200,\n",
    "min_words = 5  # 30,\n",
    "max_words = None  # None,\n",
    "min_doc_per_author = None  # 100,\n",
    "n_doc_per_author = None  # None # 1000 # Si longest_docs=False se dará error en caso de no existir documentos suficientes para algún autor.\n",
    "longest_docs = True  # True: Seleccionar los documentos más largos. False: Seleccionar los documentos aleatoriamente.\n",
    "# Estadísticas y gráficas\n",
    "show_stats = False\n",
    "num_bars = 'auto'  # 'auto', 'fd', 'doane', 'scott', 'stone', 'rice', 'sturges', or 'sqrt'.\n",
    "\n",
    "description = f\"3 autores minimo {min_words} palabras sin documentos minimos, balanceo pasivo- LIMPIANDO y NO TOKENIZANOD - TRIGRAMAS\"\n",
    "\n",
    "###############################################################################\n",
    "# Limpieza de los datos\n",
    "###############################################################################\n",
    "mis_tecnicas = True\n",
    "stop_words=True\n",
    "max_df=0.8  # Palabras muy frecuentes\n",
    "min_df=1  # Palabras poco frecuentes\n",
    "strip_accents=True\n",
    "lowercase=True\n",
    "\n",
    "# True: Tokenizar; False: Eliminar; None: No hacer nada\n",
    "tokenize_emoticons = False\n",
    "tokenize_numbers = False\n",
    "tokenize_simbols = False\n",
    "tokenize_punctuation = False\n",
    "tokenize_urls = False\n",
    "\n",
    "\n",
    "###############################################################################\n",
    "# Tokenización de los datos\n",
    "###############################################################################\n",
    "ngram_range=(1, 3)\n",
    "binarize=False\n",
    "balance='all_set'  # 'all_set' 'sub_set'\n",
    "balance_to_target=False\n",
    "target=None  # Clase objetivo binarización\n",
    "balance_passive=True\n",
    "\n",
    "###############################################################################\n",
    "# Extracción de características de los datos\n",
    "###############################################################################\n",
    "test_size=0.3\n",
    "sublinear_tf=True # Apply sublinear tf scaling, i.e. replace tf with 1 + log(tf). Default: False.\n",
    "smooth_idf=True  # Smooth idf weights by adding one to document frequencies, as if an extra document was seen containing every term in the collection exactly once. Prevents zero divisions. Default: True.\n",
    "use_idf=True  # Enable inverse-document-frequency reweighting. If False, idf(t) = 1. Default: True.\n",
    "\n",
    "# TODO No propagada al Vectorizador\n",
    "norm='l2'  # Each output row will have unit norm, either: Default: 'l2'\n",
    "           #    'l2': Sum of squares of vector elements is 1. The cosine similarity between two vectors is their dot product when l2 norm has been applied.\n",
    "           #    'l1': Sum of absolute values of vector elements is 1. See preprocessing.normalize.\n",
    "           #    None: No normalization.\n",
    "\n",
    "\n",
    "###############################################################################\n",
    "# Clasificación de los datos\n",
    "###############################################################################\n",
    "classifiers_list = [\n",
    "    'RidgeClassifier',\n",
    "    'LogisticRegression',\n",
    "    'BernoulliNB',\n",
    "    'NearestCentroid',\n",
    "    'LinearSVC',\n",
    "    # 'NuSVC',\n",
    "    # 'SVC',\n",
    "    # 'RandomForestClassifier',\n",
    "    # 'DecisionTreeClassifier',\n",
    "    'ExtraTreeClassifier',\n",
    "    # 'GradientBoostingClassifier',\n",
    "    # 'LogisticRegressionCV',\n",
    "    # 'RidgeClassifierCV',\n",
    "    # 'MLPClassifier',\n",
    "]\n",
    "\n",
    "\n",
    "# description = \"Sin limitar numero de palabras y tokenizando el texto\"\n"
   ]
  },
  {
   "cell_type": "code",
   "execution_count": 3,
   "metadata": {
    "ExecuteTime": {
     "end_time": "2023-07-08T19:45:49.634832900Z",
     "start_time": "2023-07-08T19:45:49.401832500Z"
    }
   },
   "outputs": [],
   "source": [
    "from tfg.datos import DataBase, get_temp_dataset, set_temp_dataset, anonymize_authors, get_experiment_id\n",
    "metadata = dict(_id=get_experiment_id())\n",
    "metadata[\"description\"] = description\n",
    "db = DataBase(collection=collection)"
   ]
  },
  {
   "cell_type": "markdown",
   "metadata": {},
   "source": [
    "## Minería de texto"
   ]
  },
  {
   "cell_type": "markdown",
   "metadata": {},
   "source": [
    "### Fase de recolección de datos"
   ]
  },
  {
   "cell_type": "code",
   "execution_count": 4,
   "metadata": {
    "ExecuteTime": {
     "end_time": "2023-07-08T19:45:55.965227700Z",
     "start_time": "2023-07-08T19:45:49.636832900Z"
    }
   },
   "outputs": [
    {
     "name": "stdout",
     "output_type": "stream",
     "text": [
      "Cargando datos desde la base de datos...\n",
      "Recuperados 905129 documentos de la colección anonymized_posts_100\n",
      "Guardar fichero: ./tmp/temp_dataset.pkl\n",
      "Objeto guardado en el archivo temp_dataset.pkl\n",
      "<class 'pandas.core.frame.DataFrame'>\n",
      "RangeIndex: 905129 entries, 0 to 905128\n",
      "Data columns (total 3 columns):\n",
      " #   Column  Non-Null Count   Dtype \n",
      "---  ------  --------------   ----- \n",
      " 0   _id     905129 non-null  object\n",
      " 1   text    905129 non-null  object\n",
      " 2   author  905129 non-null  object\n",
      "dtypes: object(3)\n",
      "memory usage: 20.7+ MB\n"
     ]
    }
   ],
   "source": [
    "\n",
    "if origen_datos == \"local\":\n",
    "    print(\"Cargando datos desde el disco...\")\n",
    "    df_all = get_temp_dataset()\n",
    "elif origen_datos == \"mongo\":\n",
    "    print(\"Cargando datos desde la base de datos...\")\n",
    "    df_all = db.get_dataframe(collection=collection)\n",
    "    set_temp_dataset(df_all)\n",
    "else:\n",
    "    raise ValueError(\"El parámetro origen_datos debe ser 'local' o 'mongo'\")\n",
    "df_all.info()"
   ]
  },
  {
   "cell_type": "code",
   "execution_count": 5,
   "metadata": {
    "ExecuteTime": {
     "end_time": "2023-07-08T19:45:56.102194100Z",
     "start_time": "2023-07-08T19:45:56.085196200Z"
    }
   },
   "outputs": [
    {
     "data": {
      "text/plain": [
       "_id       905129\n",
       "text      905129\n",
       "author    905129\n",
       "dtype: int64"
      ]
     },
     "execution_count": 5,
     "metadata": {},
     "output_type": "execute_result"
    }
   ],
   "source": [
    "df_all.count()"
   ]
  },
  {
   "cell_type": "markdown",
   "metadata": {},
   "source": [
    "### Fase de preprocesamiento"
   ]
  },
  {
   "cell_type": "code",
   "execution_count": 6,
   "metadata": {
    "ExecuteTime": {
     "end_time": "2023-07-08T19:45:56.274194Z",
     "start_time": "2023-07-08T19:45:56.105195100Z"
    }
   },
   "outputs": [
    {
     "name": "stdout",
     "output_type": "stream",
     "text": [
      "Eliminando columnas:  ['_id']\n",
      "<class 'pandas.core.frame.DataFrame'>\n",
      "RangeIndex: 905129 entries, 0 to 905128\n",
      "Data columns (total 2 columns):\n",
      " #   Column  Non-Null Count   Dtype \n",
      "---  ------  --------------   ----- \n",
      " 0   text    905129 non-null  object\n",
      " 1   author  905129 non-null  object\n",
      "dtypes: object(2)\n",
      "memory usage: 13.8+ MB\n"
     ]
    }
   ],
   "source": [
    "\n",
    "from tfg.textmining.preprocessing import eliminar_columnas\n",
    "\n",
    "df_all = eliminar_columnas(df_all, [\"_id\", \"fecha\", \"numeroEntrada\", \"cita\", \"url\", \"tipoUsuario\", \"thread\"])\n",
    "df_all.info()"
   ]
  },
  {
   "cell_type": "code",
   "execution_count": 7,
   "metadata": {
    "ExecuteTime": {
     "end_time": "2023-07-08T19:45:56.318196Z",
     "start_time": "2023-07-08T19:45:56.274194Z"
    }
   },
   "outputs": [],
   "source": [
    "# _ = show_statistics(df_all, title=\"Estadísticas del dataset completo\",\n",
    "#                     num_bars='auto',  # 'auto', 'fd', 'doane', 'scott', 'stone', 'rice', 'sturges', or 'sqrt'.\n",
    "#                     hist=False)"
   ]
  },
  {
   "cell_type": "code",
   "execution_count": 8,
   "metadata": {
    "ExecuteTime": {
     "end_time": "2023-07-08T19:45:58.607213100Z",
     "start_time": "2023-07-08T19:45:56.318196Z"
    }
   },
   "outputs": [],
   "source": [
    "from tfg.textmining.preprocessing import select_documents\n",
    "\n",
    "###############################################################################\n",
    "# Seleccionar dataset\n",
    "###############################################################################\n",
    "datos, metadata = select_documents(\n",
    "    df_all,\n",
    "    n_authors=n_authors,  # 200,\n",
    "    min_words=min_words,  # 30,\n",
    "    max_words=max_words,  # None,\n",
    "    min_doc_per_author=min_doc_per_author,  # 100,\n",
    "    n_doc_per_author=n_doc_per_author,\n",
    "    # 1000,  # Si longest_docs=False se dará error en caso de no existir documentos suficientes para algún autor.\n",
    "    longest_docs=longest_docs,\n",
    "    # True: Seleccionar los documentos más largos. False: Seleccionar los documentos aleatoriamente.\n",
    "    show_stats=show_stats,\n",
    "    num_bars=num_bars,  # 'auto', 'fd', 'doane', 'scott', 'stone', 'rice', 'sturges', or 'sqrt'.\n",
    "    metadata=metadata,\n",
    ")\n",
    "# metadata[\"selected_documents_statistics\"] = md\n",
    "# metadata = dict(selected_documents_statistics=metadata)"
   ]
  },
  {
   "cell_type": "code",
   "execution_count": 9,
   "metadata": {
    "ExecuteTime": {
     "end_time": "2023-07-08T19:45:59.107195400Z",
     "start_time": "2023-07-08T19:45:58.619195Z"
    }
   },
   "outputs": [
    {
     "name": "stdout",
     "output_type": "stream",
     "text": [
      "******************************************************************************************\n",
      "Estadísticas del dataset seleccionado:\n",
      "******************************************************************************************\n",
      " - Número de autores                  :          3\n",
      " - Número de documentos               :     67,568\n",
      " - Número de palabras                 :  1,077,749\n",
      " - Máximo de documentos de un autor   :     31,688\n",
      " - Mínimo de documentos de un autor   :     17,360\n",
      " - Media de documentos por autor      :     22,522.67\n",
      " - SD de documentos por autor         :      7,958.57\n",
      " - CV de documentos por autor (%)     :         35.34\n",
      " - Máximo de palabras de un autor     :    459,908\n",
      " - Mínimo de palabras de un autor     :    291,241\n",
      " - Media de palabras por autor        :    359,249.67\n",
      " - SD de palabras por autor           :     88,947.40\n",
      " - CV de palabras por autor (%)       :         24.76\n",
      " - Máximo de palabras de un documento :      1,153\n",
      " - Mínimo de palabras de un documento :          5\n",
      " - Media de palabras por documento    :         15.95\n",
      " - SD de palabras por documento       :         20.98\n",
      " - CV de palabras por documento (%)   :        131.52\n",
      "\n"
     ]
    }
   ],
   "source": [
    "_ = show_statistics(datos, title=\"Estadísticas del dataset seleccionado\",\n",
    "                    num_bars='auto',  # 'auto', 'fd', 'doane', 'scott', 'stone', 'rice', 'sturges', or 'sqrt'.\n",
    "                    hist=False)"
   ]
  },
  {
   "cell_type": "code",
   "execution_count": 10,
   "metadata": {
    "ExecuteTime": {
     "end_time": "2023-07-08T19:45:59.731227900Z",
     "start_time": "2023-07-08T19:45:59.135195900Z"
    }
   },
   "outputs": [
    {
     "name": "stdout",
     "output_type": "stream",
     "text": [
      "Prefix: A\n",
      "Changing author AUTHOR_63 to A0\n",
      "Changing author AUTHOR_55 to A1\n",
      "Changing author AUTHOR_206 to A2\n"
     ]
    }
   ],
   "source": [
    "# Anonimizar autores\n",
    "if anonymize_and_save:\n",
    "    db = DataBase()\n",
    "    anonymized_df_all = db.anonymize_and_save(datos, collection=\"all_anonymized_posts\")\n",
    "    # anonymized_df_all = anonymize_authors(df_all)\n",
    "    datos = anonymized_df_all\n",
    "else:\n",
    "    datos = anonymize_authors(datos)\n",
    "# Guardar datos preprocesados en el disco\n",
    "if save_preprocessed_temp:\n",
    "    set_temp_dataset(datos)"
   ]
  },
  {
   "cell_type": "code",
   "execution_count": 11,
   "metadata": {
    "ExecuteTime": {
     "end_time": "2023-07-08T19:46:00.075194200Z",
     "start_time": "2023-07-08T19:45:59.738194500Z"
    }
   },
   "outputs": [
    {
     "name": "stdout",
     "output_type": "stream",
     "text": [
      "Número de autores: 3\n",
      "Número de documentos: 67568\n",
      "Número de palabras: 1077749\n"
     ]
    }
   ],
   "source": [
    "author_label = \"author\"\n",
    "doc_author_counts = datos[author_label].value_counts()\n",
    "print(\"Número de autores: {}\".format(len(doc_author_counts)))\n",
    "word_author_counts = datos.groupby(author_label)['text'].apply(lambda x: x.str.split().str.len().sum())\n",
    "print(\"Número de documentos: {}\".format(len(datos)))\n",
    "word_doc_counts = datos['text'].str.split().str.len()\n",
    "print(\"Número de palabras: {}\".format(word_doc_counts.sum()))"
   ]
  },
  {
   "cell_type": "code",
   "execution_count": 12,
   "metadata": {
    "ExecuteTime": {
     "end_time": "2023-07-08T19:46:00.120193500Z",
     "start_time": "2023-07-08T19:46:00.077193300Z"
    }
   },
   "outputs": [
    {
     "name": "stdout",
     "output_type": "stream",
     "text": [
      "Número de autores con cero palabras: 0\n",
      "Número de autores con cero documentos: 0\n",
      "Número de documentos con cero palabras: 0\n"
     ]
    }
   ],
   "source": [
    "# Cuantos autores tienen cero palabras\n",
    "print(\"Número de autores con cero palabras: {}\".format(\n",
    "    (word_author_counts == 0).sum()))\n",
    "# Cuantos autores tienen cero documentos\n",
    "print(\"Número de autores con cero documentos: {}\".format(\n",
    "    (doc_author_counts == 0).sum()))\n",
    "# Cuantos documentos tienen cero palabras\n",
    "print(\"Número de documentos con cero palabras: {}\".format(\n",
    "    (word_doc_counts == 0).sum()))\n"
   ]
  },
  {
   "cell_type": "code",
   "execution_count": 13,
   "metadata": {
    "ExecuteTime": {
     "end_time": "2023-07-08T19:46:00.129195200Z",
     "start_time": "2023-07-08T19:46:00.097193400Z"
    }
   },
   "outputs": [
    {
     "name": "stdout",
     "output_type": "stream",
     "text": [
      "Número de documentos de cada autor:\n"
     ]
    },
    {
     "data": {
      "text/plain": [
       "{'A1': 31688, 'A0': 18520, 'A2': 17360}"
      ]
     },
     "execution_count": 13,
     "metadata": {},
     "output_type": "execute_result"
    }
   ],
   "source": [
    "print(\"Número de documentos de cada autor:\")\n",
    "# Utilizar la función value_counts() para contar la frecuencia de aparición de cada autor\n",
    "author_counts = datos['author'].value_counts()\n",
    "metadata.update({\"total_documents_per_author\": author_counts.to_dict()})\n",
    "# Imprimir los resultados\n",
    "author_counts.to_dict()"
   ]
  },
  {
   "cell_type": "markdown",
   "metadata": {},
   "source": [
    "### Fase de limpieza de texto"
   ]
  },
  {
   "cell_type": "code",
   "execution_count": 14,
   "metadata": {
    "ExecuteTime": {
     "end_time": "2023-07-08T19:46:02.380194200Z",
     "start_time": "2023-07-08T19:46:00.108195900Z"
    }
   },
   "outputs": [
    {
     "name": "stdout",
     "output_type": "stream",
     "text": [
      "Antes de limpiar el corpus:\n",
      "0     Pues por lo que pone en los datos oficiales, l...\n",
      "1     solo admite gasolina SP 98, porque es un motor...\n",
      "2                           tu coche lo tengo muy visto\n",
      "3     la ilusion de los no-madridistas es ver perder...\n",
      "4       pues que te vas cargando el motor, asi de claro\n",
      "5     me imagino a la pauli racaneando el cafe: \"mig...\n",
      "6        Mirar esto es cojonudo x 987647684646468347584\n",
      "7     habeis visto este foro?? www.forodetalles.com ...\n",
      "8     a mi me suda el cimbel, pero creo que al resto...\n",
      "9                   no se, pero por probar que no quede\n",
      "10        Yo era la primera vez que lo veia Es cojonudo\n",
      "11    me sale mas barato alquilar una habitacion de ...\n",
      "Name: text, dtype: object \n",
      "\n",
      "Limpiando corpus...\n",
      "0     Pues por lo que pone en los datos oficiales la...\n",
      "1     solo admite gasolina SP  porque es un motor pr...\n",
      "2                           tu coche lo tengo muy visto\n",
      "3     la ilusion de los nomadridistas es ver perder ...\n",
      "4        pues que te vas cargando el motor asi de claro\n",
      "5     me imagino a la pauli racaneando el cafe mig e...\n",
      "6                             Mirar esto es cojonudo x \n",
      "7     habeis visto este foro  es acojonante lo que s...\n",
      "8     a mi me suda el cimbel pero creo que al resto ...\n",
      "9                    no se pero por probar que no quede\n",
      "10        Yo era la primera vez que lo veia Es cojonudo\n",
      "11    me sale mas barato alquilar una habitacion de ...\n",
      "Name: text, dtype: object\n"
     ]
    }
   ],
   "source": [
    "from tfg.textmining.preparing import clean_corpus\n",
    "\n",
    "print(\"Antes de limpiar el corpus:\")\n",
    "print(datos['text'][0:12].reset_index(drop=True), \"\\n\")\n",
    "print(\"Limpiando corpus...\")\n",
    "datos['text'], args = clean_corpus(datos['text'],\n",
    "                                   tokenize_emoticons=tokenize_emoticons,\n",
    "                                   tokenize_numbers=tokenize_numbers,\n",
    "                                   tokenize_simbols=tokenize_simbols,\n",
    "                                   tokenize_punctuation=tokenize_punctuation,\n",
    "                                   tokenize_urls=tokenize_urls)\n",
    "\n",
    "metadata.update({'args_clean_corpus': args})\n",
    "print(datos['text'][0:12].reset_index(drop=True))"
   ]
  },
  {
   "cell_type": "markdown",
   "metadata": {},
   "source": [
    "## Vectorizar, TF-IDF y generar conjuntos de test y entrenamiento"
   ]
  },
  {
   "cell_type": "code",
   "execution_count": 15,
   "metadata": {
    "ExecuteTime": {
     "end_time": "2023-07-08T19:46:05.982226100Z",
     "start_time": "2023-07-08T19:46:02.394220500Z"
    }
   },
   "outputs": [
    {
     "name": "stdout",
     "output_type": "stream",
     "text": [
      "******************************************************************************************\n",
      "In Data Stats:\n",
      "******************************************************************************************\n",
      " - Número de autores                  :          3\n",
      " - Número de documentos               :     67,568\n",
      " - Número de palabras                 :  1,046,020\n",
      " - Máximo de documentos de un autor   :     31,688\n",
      " - Mínimo de documentos de un autor   :     17,360\n",
      " - Media de documentos por autor      :     22,522.67\n",
      " - SD de documentos por autor         :      7,958.57\n",
      " - CV de documentos por autor (%)     :         35.34\n",
      " - Máximo de palabras de un autor     :    446,836\n",
      " - Mínimo de palabras de un autor     :    281,011\n",
      " - Media de palabras por autor        :    348,673.33\n",
      " - SD de palabras por autor           :     87,018.31\n",
      " - CV de palabras por autor (%)       :         24.96\n",
      " - Máximo de palabras de un documento :      1,138\n",
      " - Mínimo de palabras de un documento :          0\n",
      " - Media de palabras por documento    :         15.48\n",
      " - SD de palabras por documento       :         20.18\n",
      " - CV de palabras por documento (%)   :        130.35\n",
      "\n",
      "******************************************************************************************\n",
      "Info dataset balanced:\n",
      "******************************************************************************************\n",
      " - Número de autores                  :          3\n",
      " - Número de documentos               :     52,080\n",
      " - Número de palabras                 :    826,788\n",
      " - Máximo de documentos de un autor   :     17,360\n",
      " - Mínimo de documentos de un autor   :     17,360\n",
      " - Media de documentos por autor      :     17,360.00\n",
      " - SD de documentos por autor         :          0.00\n",
      " - CV de documentos por autor (%)     :          0.00\n",
      " - Máximo de palabras de un autor     :    318,173\n",
      " - Mínimo de palabras de un autor     :    245,718\n",
      " - Media de palabras por autor        :    275,596.00\n",
      " - SD de palabras por autor           :     37,860.01\n",
      " - CV de palabras por autor (%)       :         13.74\n",
      " - Máximo de palabras de un documento :        999\n",
      " - Mínimo de palabras de un documento :          0\n",
      " - Media de palabras por documento    :         15.88\n",
      " - SD de palabras por documento       :         20.99\n",
      " - CV de palabras por documento (%)   :        132.22\n",
      "\n"
     ]
    },
    {
     "name": "stderr",
     "output_type": "stream",
     "text": [
      "C:\\Users\\joseh\\anaconda3\\lib\\site-packages\\sklearn\\feature_extraction\\text.py:409: UserWarning: Your stop_words may be inconsistent with your preprocessing. Tokenizing the stop words generated tokens ['eramos', 'estabamos', 'estais', 'estan', 'estara', 'estaran', 'estaras', 'estare', 'estareis', 'estaria', 'estariais', 'estariamos', 'estarian', 'estarias', 'esteis', 'esten', 'estes', 'estuvieramos', 'estuviesemos', 'fueramos', 'fuesemos', 'habeis', 'habia', 'habiais', 'habiamos', 'habian', 'habias', 'habra', 'habran', 'habras', 'habre', 'habreis', 'habria', 'habriais', 'habriamos', 'habrian', 'habrias', 'hayais', 'hubieramos', 'hubiesemos', 'mas', 'mia', 'mias', 'mio', 'mios', 'seais', 'sera', 'seran', 'seras', 'sere', 'sereis', 'seria', 'seriais', 'seriamos', 'serian', 'serias', 'si', 'tambien', 'tendra', 'tendran', 'tendras', 'tendre', 'tendreis', 'tendria', 'tendriais', 'tendriamos', 'tendrian', 'tendrias', 'teneis', 'tengais', 'tenia', 'teniais', 'teniamos', 'tenian', 'tenias', 'tuvieramos', 'tuviesemos'] not in stop_words.\n",
      "  warnings.warn(\n"
     ]
    },
    {
     "name": "stdout",
     "output_type": "stream",
     "text": [
      "******************************************************************************************\n",
      "*                                Info data set processed                                 *\n",
      "******************************************************************************************\n",
      "  3 Classes: ['A0' 'A1' 'A2']\n",
      "------------------------------------------------------------------------------------------\n",
      "  Training set:\n",
      "    vectorize training done in 2.008 seg. at 1.467 MB/s\n",
      "    36456 documents - 2.95MB (training set)\n",
      "------------------------------------------------------------------------------------------\n",
      "  Test set:\n",
      "    vectorize testing done in 0.358 seg. at 3.485 MB/s\n",
      "    15624 documents - 1.25 MB (test set)\n",
      "------------------------------------------------------------------------------------------\n",
      "  Features: 430719\n",
      "******************************************************************************************\n",
      "\n"
     ]
    }
   ],
   "source": [
    "from tfg.textmining.preparing import process_dataset\n",
    "\n",
    "# ##########################################################\n",
    "# Vectorizar y generar los conjuntos de entrenamiento y test\n",
    "# ##########################################################\n",
    "X_train, X_test, y_train, y_test, feature_names, target_names, md = process_dataset(\n",
    "    datos,\n",
    "    class_label=\"author\",\n",
    "    ngram_range=ngram_range,\n",
    "    max_df=max_df,\n",
    "    min_df=min_df,\n",
    "    stop_words=stop_words,\n",
    "    strip_accents=strip_accents,\n",
    "    lowercase=lowercase,\n",
    "    binarize=binarize,\n",
    "    balance=balance,  # 'all_set', 'sub_set'\n",
    "    balance_to_target=balance_to_target,\n",
    "    target=target,\n",
    "    sublinear_tf=sublinear_tf,\n",
    "    smooth_idf=smooth_idf,\n",
    "    test_size=test_size,\n",
    "    balance_passive=balance_passive,\n",
    "    verbose=True,\n",
    ")\n",
    "metadata.update({'metadata_process_dataset': md})"
   ]
  },
  {
   "cell_type": "code",
   "execution_count": 16,
   "metadata": {
    "ExecuteTime": {
     "end_time": "2023-07-08T19:46:05.997193800Z",
     "start_time": "2023-07-08T19:46:05.990196100Z"
    }
   },
   "outputs": [
    {
     "name": "stdout",
     "output_type": "stream",
     "text": [
      "[TRAINING] Número de documentos de cada autor:\n",
      "author\n",
      "A1    12197\n",
      "A0    12174\n",
      "A2    12085\n",
      "Name: count, dtype: int64 \n",
      "\n",
      "[TEST] Número de documentos de cada autor:\n",
      "author\n",
      "A2    5275\n",
      "A0    5186\n",
      "A1    5163\n",
      "Name: count, dtype: int64 \n",
      "\n"
     ]
    }
   ],
   "source": [
    "# Imprimir los documentos de cada autor en el conjunto de entrenamiento\n",
    "print(\"[TRAINING] Número de documentos de cada autor:\")\n",
    "print(y_train.value_counts(), \"\\n\")\n",
    "# Imprimir los documentos de cada autor en el conjunto de test\n",
    "print(\"[TEST] Número de documentos de cada autor:\")\n",
    "print(y_test.value_counts(), \"\\n\")"
   ]
  },
  {
   "cell_type": "code",
   "execution_count": 17,
   "metadata": {},
   "outputs": [
    {
     "name": "stdout",
     "output_type": "stream",
     "text": [
      "##########################################################################################\n",
      "RidgeClassifier\n",
      "##########################################################################################\n",
      "              precision    recall  f1-score   support\n",
      "\n",
      "          A0       0.58      0.65      0.62      5186\n",
      "          A1       0.63      0.58      0.60      5163\n",
      "          A2       0.62      0.60      0.61      5275\n",
      "\n",
      "    accuracy                           0.61     15624\n",
      "   macro avg       0.61      0.61      0.61     15624\n",
      "weighted avg       0.61      0.61      0.61     15624\n",
      "\n",
      "Training done in 2.203 seg. \n",
      "\n",
      "Creada carpeta D:\\joseh\\OneDrive - UNIR\\20 - TFG\\code\\repository\\tool\\Resultados\\2023-07-08\\3-authors_52080-documents\\EXPT-20230708214549\\RidgeClassifier\n",
      "\n",
      "accuracy: 0.6104\n",
      "balanced accuracy: 0.6104\n",
      "precision (macro)   : 0.6123\n",
      "precision (micro)   : 0.6104\n",
      "precision (weighted): 0.6123\n",
      "recall (macro)   : 0.6104\n",
      "recall (micro)   : 0.6104\n",
      "recall (weighted): 0.6104\n",
      "f1 (macro)   : 0.6102\n",
      "f1 (micro)   : 0.6104\n",
      "f1 (weighted): 0.6102\n"
     ]
    },
    {
     "data": {
      "image/png": "[encoded data removed]",
      "text/plain": [
       "<Figure size 528x316.8 with 2 Axes>"
      ]
     },
     "metadata": {
      "needs_background": "light"
     },
     "output_type": "display_data"
    },
    {
     "data": {
      "image/png": "[encoded data removed]",
      "text/plain": [
       "<Figure size 528x316.8 with 2 Axes>"
      ]
     },
     "metadata": {
      "needs_background": "light"
     },
     "output_type": "display_data"
    },
    {
     "name": "stdout",
     "output_type": "stream",
     "text": [
      "\n",
      ">>> Best Accuracy: (RidgeClassifier) 0.6104 <<<\n",
      "\n",
      "##########################################################################################\n",
      "LogisticRegression\n",
      "##########################################################################################\n",
      "Tipo de excepción: <class 'KeyboardInterrupt'>\n",
      "Detalles de la excepción: \n",
      "Traceback: <traceback object at 0x000002658290A400>\n",
      "\n",
      "\n",
      ">>> Best Accuracy: (RidgeClassifier) 0.6104 <<<\n",
      "\n"
     ]
    },
    {
     "ename": "TypeError",
     "evalue": "exceptions must derive from BaseException",
     "output_type": "error",
     "traceback": [
      "\u001B[1;31m---------------------------------------------------------------------------\u001B[0m",
      "\u001B[1;31mKeyboardInterrupt\u001B[0m                         Traceback (most recent call last)",
      "\u001B[1;32mD:\\joseh\\OneDrive - UNIR\\20 - TFG\\code\\repository\\tool\\tfg\\modelo.py\u001B[0m in \u001B[0;36mclassifiers\u001B[1;34m(x_train, y_train, x_test, y_test, classifiers_list, metadata, gen_conf_matrix)\u001B[0m\n\u001B[0;32m    323\u001B[0m         \u001B[1;32mtry\u001B[0m\u001B[1;33m:\u001B[0m\u001B[1;33m\u001B[0m\u001B[1;33m\u001B[0m\u001B[0m\n\u001B[1;32m--> 324\u001B[1;33m             accuracy = classify(clf, x_test, x_train, y_test, y_train, metadata,\n\u001B[0m\u001B[0;32m    325\u001B[0m                                 gen_conf_matrix=gen_conf_matrix)\n",
      "\u001B[1;32mD:\\joseh\\OneDrive - UNIR\\20 - TFG\\code\\repository\\tool\\tfg\\modelo.py\u001B[0m in \u001B[0;36mclassify\u001B[1;34m(clf, x_test, x_train, y_test, y_train, metadata, gen_conf_matrix)\u001B[0m\n\u001B[0;32m    203\u001B[0m     \u001B[0mt0\u001B[0m \u001B[1;33m=\u001B[0m \u001B[0mtime\u001B[0m\u001B[1;33m(\u001B[0m\u001B[1;33m)\u001B[0m\u001B[1;33m\u001B[0m\u001B[1;33m\u001B[0m\u001B[0m\n\u001B[1;32m--> 204\u001B[1;33m     \u001B[0mclf\u001B[0m\u001B[1;33m.\u001B[0m\u001B[0mfit\u001B[0m\u001B[1;33m(\u001B[0m\u001B[0mx_train\u001B[0m\u001B[1;33m,\u001B[0m \u001B[0my_train\u001B[0m\u001B[1;33m)\u001B[0m\u001B[1;33m\u001B[0m\u001B[1;33m\u001B[0m\u001B[0m\n\u001B[0m\u001B[0;32m    205\u001B[0m     \u001B[0mduration\u001B[0m \u001B[1;33m=\u001B[0m \u001B[0mtime\u001B[0m\u001B[1;33m(\u001B[0m\u001B[1;33m)\u001B[0m \u001B[1;33m-\u001B[0m \u001B[0mt0\u001B[0m\u001B[1;33m\u001B[0m\u001B[1;33m\u001B[0m\u001B[0m\n",
      "\u001B[1;32m~\\anaconda3\\lib\\site-packages\\sklearn\\linear_model\\_logistic.py\u001B[0m in \u001B[0;36mfit\u001B[1;34m(self, X, y, sample_weight)\u001B[0m\n\u001B[0;32m   1290\u001B[0m \u001B[1;33m\u001B[0m\u001B[0m\n\u001B[1;32m-> 1291\u001B[1;33m         fold_coefs_ = Parallel(n_jobs=self.n_jobs, verbose=self.verbose, prefer=prefer)(\n\u001B[0m\u001B[0;32m   1292\u001B[0m             path_func(\n",
      "\u001B[1;32m~\\anaconda3\\lib\\site-packages\\sklearn\\utils\\parallel.py\u001B[0m in \u001B[0;36m__call__\u001B[1;34m(self, iterable)\u001B[0m\n\u001B[0;32m     62\u001B[0m         )\n\u001B[1;32m---> 63\u001B[1;33m         \u001B[1;32mreturn\u001B[0m \u001B[0msuper\u001B[0m\u001B[1;33m(\u001B[0m\u001B[1;33m)\u001B[0m\u001B[1;33m.\u001B[0m\u001B[0m__call__\u001B[0m\u001B[1;33m(\u001B[0m\u001B[0miterable_with_config\u001B[0m\u001B[1;33m)\u001B[0m\u001B[1;33m\u001B[0m\u001B[1;33m\u001B[0m\u001B[0m\n\u001B[0m\u001B[0;32m     64\u001B[0m \u001B[1;33m\u001B[0m\u001B[0m\n",
      "\u001B[1;32m~\\anaconda3\\lib\\site-packages\\joblib\\parallel.py\u001B[0m in \u001B[0;36m__call__\u001B[1;34m(self, iterable)\u001B[0m\n\u001B[0;32m   1084\u001B[0m             \u001B[0mself\u001B[0m\u001B[1;33m.\u001B[0m\u001B[0m_iterating\u001B[0m \u001B[1;33m=\u001B[0m \u001B[1;32mFalse\u001B[0m\u001B[1;33m\u001B[0m\u001B[1;33m\u001B[0m\u001B[0m\n\u001B[1;32m-> 1085\u001B[1;33m             \u001B[1;32mif\u001B[0m \u001B[0mself\u001B[0m\u001B[1;33m.\u001B[0m\u001B[0mdispatch_one_batch\u001B[0m\u001B[1;33m(\u001B[0m\u001B[0miterator\u001B[0m\u001B[1;33m)\u001B[0m\u001B[1;33m:\u001B[0m\u001B[1;33m\u001B[0m\u001B[1;33m\u001B[0m\u001B[0m\n\u001B[0m\u001B[0;32m   1086\u001B[0m                 \u001B[0mself\u001B[0m\u001B[1;33m.\u001B[0m\u001B[0m_iterating\u001B[0m \u001B[1;33m=\u001B[0m \u001B[0mself\u001B[0m\u001B[1;33m.\u001B[0m\u001B[0m_original_iterator\u001B[0m \u001B[1;32mis\u001B[0m \u001B[1;32mnot\u001B[0m \u001B[1;32mNone\u001B[0m\u001B[1;33m\u001B[0m\u001B[1;33m\u001B[0m\u001B[0m\n",
      "\u001B[1;32m~\\anaconda3\\lib\\site-packages\\joblib\\parallel.py\u001B[0m in \u001B[0;36mdispatch_one_batch\u001B[1;34m(self, iterator)\u001B[0m\n\u001B[0;32m    900\u001B[0m             \u001B[1;32melse\u001B[0m\u001B[1;33m:\u001B[0m\u001B[1;33m\u001B[0m\u001B[1;33m\u001B[0m\u001B[0m\n\u001B[1;32m--> 901\u001B[1;33m                 \u001B[0mself\u001B[0m\u001B[1;33m.\u001B[0m\u001B[0m_dispatch\u001B[0m\u001B[1;33m(\u001B[0m\u001B[0mtasks\u001B[0m\u001B[1;33m)\u001B[0m\u001B[1;33m\u001B[0m\u001B[1;33m\u001B[0m\u001B[0m\n\u001B[0m\u001B[0;32m    902\u001B[0m                 \u001B[1;32mreturn\u001B[0m \u001B[1;32mTrue\u001B[0m\u001B[1;33m\u001B[0m\u001B[1;33m\u001B[0m\u001B[0m\n",
      "\u001B[1;32m~\\anaconda3\\lib\\site-packages\\joblib\\parallel.py\u001B[0m in \u001B[0;36m_dispatch\u001B[1;34m(self, batch)\u001B[0m\n\u001B[0;32m    818\u001B[0m             \u001B[0mjob_idx\u001B[0m \u001B[1;33m=\u001B[0m \u001B[0mlen\u001B[0m\u001B[1;33m(\u001B[0m\u001B[0mself\u001B[0m\u001B[1;33m.\u001B[0m\u001B[0m_jobs\u001B[0m\u001B[1;33m)\u001B[0m\u001B[1;33m\u001B[0m\u001B[1;33m\u001B[0m\u001B[0m\n\u001B[1;32m--> 819\u001B[1;33m             \u001B[0mjob\u001B[0m \u001B[1;33m=\u001B[0m \u001B[0mself\u001B[0m\u001B[1;33m.\u001B[0m\u001B[0m_backend\u001B[0m\u001B[1;33m.\u001B[0m\u001B[0mapply_async\u001B[0m\u001B[1;33m(\u001B[0m\u001B[0mbatch\u001B[0m\u001B[1;33m,\u001B[0m \u001B[0mcallback\u001B[0m\u001B[1;33m=\u001B[0m\u001B[0mcb\u001B[0m\u001B[1;33m)\u001B[0m\u001B[1;33m\u001B[0m\u001B[1;33m\u001B[0m\u001B[0m\n\u001B[0m\u001B[0;32m    820\u001B[0m             \u001B[1;31m# A job can complete so quickly than its callback is\u001B[0m\u001B[1;33m\u001B[0m\u001B[1;33m\u001B[0m\u001B[0m\n",
      "\u001B[1;32m~\\anaconda3\\lib\\site-packages\\joblib\\_parallel_backends.py\u001B[0m in \u001B[0;36mapply_async\u001B[1;34m(self, func, callback)\u001B[0m\n\u001B[0;32m    207\u001B[0m         \u001B[1;34m\"\"\"Schedule a func to be run\"\"\"\u001B[0m\u001B[1;33m\u001B[0m\u001B[1;33m\u001B[0m\u001B[0m\n\u001B[1;32m--> 208\u001B[1;33m         \u001B[0mresult\u001B[0m \u001B[1;33m=\u001B[0m \u001B[0mImmediateResult\u001B[0m\u001B[1;33m(\u001B[0m\u001B[0mfunc\u001B[0m\u001B[1;33m)\u001B[0m\u001B[1;33m\u001B[0m\u001B[1;33m\u001B[0m\u001B[0m\n\u001B[0m\u001B[0;32m    209\u001B[0m         \u001B[1;32mif\u001B[0m \u001B[0mcallback\u001B[0m\u001B[1;33m:\u001B[0m\u001B[1;33m\u001B[0m\u001B[1;33m\u001B[0m\u001B[0m\n",
      "\u001B[1;32m~\\anaconda3\\lib\\site-packages\\joblib\\_parallel_backends.py\u001B[0m in \u001B[0;36m__init__\u001B[1;34m(self, batch)\u001B[0m\n\u001B[0;32m    596\u001B[0m         \u001B[1;31m# arguments in memory\u001B[0m\u001B[1;33m\u001B[0m\u001B[1;33m\u001B[0m\u001B[0m\n\u001B[1;32m--> 597\u001B[1;33m         \u001B[0mself\u001B[0m\u001B[1;33m.\u001B[0m\u001B[0mresults\u001B[0m \u001B[1;33m=\u001B[0m \u001B[0mbatch\u001B[0m\u001B[1;33m(\u001B[0m\u001B[1;33m)\u001B[0m\u001B[1;33m\u001B[0m\u001B[1;33m\u001B[0m\u001B[0m\n\u001B[0m\u001B[0;32m    598\u001B[0m \u001B[1;33m\u001B[0m\u001B[0m\n",
      "\u001B[1;32m~\\anaconda3\\lib\\site-packages\\joblib\\parallel.py\u001B[0m in \u001B[0;36m__call__\u001B[1;34m(self)\u001B[0m\n\u001B[0;32m    287\u001B[0m         \u001B[1;32mwith\u001B[0m \u001B[0mparallel_backend\u001B[0m\u001B[1;33m(\u001B[0m\u001B[0mself\u001B[0m\u001B[1;33m.\u001B[0m\u001B[0m_backend\u001B[0m\u001B[1;33m,\u001B[0m \u001B[0mn_jobs\u001B[0m\u001B[1;33m=\u001B[0m\u001B[0mself\u001B[0m\u001B[1;33m.\u001B[0m\u001B[0m_n_jobs\u001B[0m\u001B[1;33m)\u001B[0m\u001B[1;33m:\u001B[0m\u001B[1;33m\u001B[0m\u001B[1;33m\u001B[0m\u001B[0m\n\u001B[1;32m--> 288\u001B[1;33m             return [func(*args, **kwargs)\n\u001B[0m\u001B[0;32m    289\u001B[0m                     for func, args, kwargs in self.items]\n",
      "\u001B[1;32m~\\anaconda3\\lib\\site-packages\\joblib\\parallel.py\u001B[0m in \u001B[0;36m<listcomp>\u001B[1;34m(.0)\u001B[0m\n\u001B[0;32m    287\u001B[0m         \u001B[1;32mwith\u001B[0m \u001B[0mparallel_backend\u001B[0m\u001B[1;33m(\u001B[0m\u001B[0mself\u001B[0m\u001B[1;33m.\u001B[0m\u001B[0m_backend\u001B[0m\u001B[1;33m,\u001B[0m \u001B[0mn_jobs\u001B[0m\u001B[1;33m=\u001B[0m\u001B[0mself\u001B[0m\u001B[1;33m.\u001B[0m\u001B[0m_n_jobs\u001B[0m\u001B[1;33m)\u001B[0m\u001B[1;33m:\u001B[0m\u001B[1;33m\u001B[0m\u001B[1;33m\u001B[0m\u001B[0m\n\u001B[1;32m--> 288\u001B[1;33m             return [func(*args, **kwargs)\n\u001B[0m\u001B[0;32m    289\u001B[0m                     for func, args, kwargs in self.items]\n",
      "\u001B[1;32m~\\anaconda3\\lib\\site-packages\\sklearn\\utils\\parallel.py\u001B[0m in \u001B[0;36m__call__\u001B[1;34m(self, *args, **kwargs)\u001B[0m\n\u001B[0;32m    122\u001B[0m         \u001B[1;32mwith\u001B[0m \u001B[0mconfig_context\u001B[0m\u001B[1;33m(\u001B[0m\u001B[1;33m**\u001B[0m\u001B[0mconfig\u001B[0m\u001B[1;33m)\u001B[0m\u001B[1;33m:\u001B[0m\u001B[1;33m\u001B[0m\u001B[1;33m\u001B[0m\u001B[0m\n\u001B[1;32m--> 123\u001B[1;33m             \u001B[1;32mreturn\u001B[0m \u001B[0mself\u001B[0m\u001B[1;33m.\u001B[0m\u001B[0mfunction\u001B[0m\u001B[1;33m(\u001B[0m\u001B[1;33m*\u001B[0m\u001B[0margs\u001B[0m\u001B[1;33m,\u001B[0m \u001B[1;33m**\u001B[0m\u001B[0mkwargs\u001B[0m\u001B[1;33m)\u001B[0m\u001B[1;33m\u001B[0m\u001B[1;33m\u001B[0m\u001B[0m\n\u001B[0m",
      "\u001B[1;32m~\\anaconda3\\lib\\site-packages\\sklearn\\linear_model\\_logistic.py\u001B[0m in \u001B[0;36m_logistic_regression_path\u001B[1;34m(X, y, pos_class, Cs, fit_intercept, max_iter, tol, verbose, solver, coef, class_weight, dual, penalty, intercept_scaling, multi_class, random_state, check_input, max_squared_sum, sample_weight, l1_ratio, n_threads)\u001B[0m\n\u001B[0;32m    449\u001B[0m             ]\n\u001B[1;32m--> 450\u001B[1;33m             opt_res = optimize.minimize(\n\u001B[0m\u001B[0;32m    451\u001B[0m                 \u001B[0mfunc\u001B[0m\u001B[1;33m,\u001B[0m\u001B[1;33m\u001B[0m\u001B[1;33m\u001B[0m\u001B[0m\n",
      "\u001B[1;32m~\\anaconda3\\lib\\site-packages\\scipy\\optimize\\_minimize.py\u001B[0m in \u001B[0;36mminimize\u001B[1;34m(fun, x0, args, method, jac, hess, hessp, bounds, constraints, tol, callback, options)\u001B[0m\n\u001B[0;32m    622\u001B[0m     \u001B[1;32melif\u001B[0m \u001B[0mmeth\u001B[0m \u001B[1;33m==\u001B[0m \u001B[1;34m'l-bfgs-b'\u001B[0m\u001B[1;33m:\u001B[0m\u001B[1;33m\u001B[0m\u001B[1;33m\u001B[0m\u001B[0m\n\u001B[1;32m--> 623\u001B[1;33m         return _minimize_lbfgsb(fun, x0, args, jac, bounds,\n\u001B[0m\u001B[0;32m    624\u001B[0m                                 callback=callback, **options)\n",
      "\u001B[1;32m~\\anaconda3\\lib\\site-packages\\scipy\\optimize\\lbfgsb.py\u001B[0m in \u001B[0;36m_minimize_lbfgsb\u001B[1;34m(fun, x0, args, jac, bounds, disp, maxcor, ftol, gtol, eps, maxfun, maxiter, iprint, callback, maxls, finite_diff_rel_step, **unknown_options)\u001B[0m\n\u001B[0;32m    353\u001B[0m                        isave, dsave, maxls)\n\u001B[1;32m--> 354\u001B[1;33m         \u001B[0mtask_str\u001B[0m \u001B[1;33m=\u001B[0m \u001B[0mtask\u001B[0m\u001B[1;33m.\u001B[0m\u001B[0mtobytes\u001B[0m\u001B[1;33m(\u001B[0m\u001B[1;33m)\u001B[0m\u001B[1;33m\u001B[0m\u001B[1;33m\u001B[0m\u001B[0m\n\u001B[0m\u001B[0;32m    355\u001B[0m         \u001B[1;32mif\u001B[0m \u001B[0mtask_str\u001B[0m\u001B[1;33m.\u001B[0m\u001B[0mstartswith\u001B[0m\u001B[1;33m(\u001B[0m\u001B[1;34mb'FG'\u001B[0m\u001B[1;33m)\u001B[0m\u001B[1;33m:\u001B[0m\u001B[1;33m\u001B[0m\u001B[1;33m\u001B[0m\u001B[0m\n",
      "\u001B[1;31mKeyboardInterrupt\u001B[0m: ",
      "\nDuring handling of the above exception, another exception occurred:\n",
      "\u001B[1;31mTypeError\u001B[0m                                 Traceback (most recent call last)",
      "\u001B[1;32m~\\AppData\\Local\\Temp/ipykernel_14908/3070240467.py\u001B[0m in \u001B[0;36m<module>\u001B[1;34m\u001B[0m\n\u001B[0;32m      1\u001B[0m \u001B[1;32mfrom\u001B[0m \u001B[0mtfg\u001B[0m\u001B[1;33m.\u001B[0m\u001B[0mmodelo\u001B[0m \u001B[1;32mimport\u001B[0m \u001B[0mall_classifiers\u001B[0m\u001B[1;33m,\u001B[0m \u001B[0mclassifiers\u001B[0m\u001B[1;33m\u001B[0m\u001B[1;33m\u001B[0m\u001B[0m\n\u001B[0;32m      2\u001B[0m \u001B[1;33m\u001B[0m\u001B[0m\n\u001B[1;32m----> 3\u001B[1;33m \u001B[0mclassifiers\u001B[0m\u001B[1;33m(\u001B[0m\u001B[0mX_train\u001B[0m\u001B[1;33m,\u001B[0m \u001B[0my_train\u001B[0m\u001B[1;33m,\u001B[0m \u001B[0mX_test\u001B[0m\u001B[1;33m,\u001B[0m \u001B[0my_test\u001B[0m\u001B[1;33m,\u001B[0m \u001B[0mclassifiers_list\u001B[0m\u001B[1;33m,\u001B[0m \u001B[0mmetadata\u001B[0m\u001B[1;33m,\u001B[0m \u001B[0mgen_conf_matrix\u001B[0m\u001B[1;33m=\u001B[0m\u001B[1;32mTrue\u001B[0m\u001B[1;33m)\u001B[0m\u001B[1;33m\u001B[0m\u001B[1;33m\u001B[0m\u001B[0m\n\u001B[0m",
      "\u001B[1;32mD:\\joseh\\OneDrive - UNIR\\20 - TFG\\code\\repository\\tool\\tfg\\modelo.py\u001B[0m in \u001B[0;36mclassifiers\u001B[1;34m(x_train, y_train, x_test, y_test, classifiers_list, metadata, gen_conf_matrix)\u001B[0m\n\u001B[0;32m    332\u001B[0m             \u001B[0mprint\u001B[0m\u001B[1;33m(\u001B[0m\u001B[1;34m\"Traceback:\"\u001B[0m\u001B[1;33m,\u001B[0m \u001B[0mex\u001B[0m\u001B[1;33m[\u001B[0m\u001B[1;36m2\u001B[0m\u001B[1;33m]\u001B[0m\u001B[1;33m)\u001B[0m\u001B[1;33m\u001B[0m\u001B[1;33m\u001B[0m\u001B[0m\n\u001B[0;32m    333\u001B[0m             \u001B[0mprint\u001B[0m\u001B[1;33m(\u001B[0m\u001B[1;33m)\u001B[0m\u001B[1;33m\u001B[0m\u001B[1;33m\u001B[0m\u001B[0m\n\u001B[1;32m--> 334\u001B[1;33m             \u001B[1;32mraise\u001B[0m \u001B[1;33m(\u001B[0m\u001B[0mex\u001B[0m\u001B[1;33m[\u001B[0m\u001B[1;36m0\u001B[0m\u001B[1;33m]\u001B[0m\u001B[1;33m,\u001B[0m \u001B[0mex\u001B[0m\u001B[1;33m[\u001B[0m\u001B[1;36m1\u001B[0m\u001B[1;33m]\u001B[0m\u001B[1;33m,\u001B[0m \u001B[0mex\u001B[0m\u001B[1;33m[\u001B[0m\u001B[1;36m2\u001B[0m\u001B[1;33m]\u001B[0m\u001B[1;33m)\u001B[0m\u001B[1;33m\u001B[0m\u001B[1;33m\u001B[0m\u001B[0m\n\u001B[0m\u001B[0;32m    335\u001B[0m         \u001B[1;32mfinally\u001B[0m\u001B[1;33m:\u001B[0m\u001B[1;33m\u001B[0m\u001B[1;33m\u001B[0m\u001B[0m\n\u001B[0;32m    336\u001B[0m             \u001B[0mprint\u001B[0m\u001B[1;33m(\u001B[0m\u001B[1;34mf\"\\n>>> Best Accuracy: ({best_clf}) {best_accuracy:.4} <<<\\n\"\u001B[0m\u001B[1;33m)\u001B[0m\u001B[1;33m\u001B[0m\u001B[1;33m\u001B[0m\u001B[0m\n",
      "\u001B[1;31mTypeError\u001B[0m: exceptions must derive from BaseException"
     ]
    }
   ],
   "source": [
    "from tfg.modelo import all_classifiers, classifiers\n",
    "\n",
    "classifiers(X_train, y_train, X_test, y_test, classifiers_list, metadata, gen_conf_matrix=True)"
   ]
  }
 ],
 "metadata": {
  "kernelspec": {
   "display_name": "Python 3 (ipykernel)",
   "language": "python",
   "name": "python3"
  },
  "language_info": {
   "codemirror_mode": {
    "name": "ipython",
    "version": 3
   },
   "file_extension": ".py",
   "mimetype": "text/x-python",
   "name": "python",
   "nbconvert_exporter": "python",
   "pygments_lexer": "ipython3",
   "version": "3.9.7"
  },
  "vscode": {
   "interpreter": {
    "hash": "cefc99a841002b9be9127f4477866ef080b13781ea7ca78c2fb44ddc4699c5ac"
   }
  }
 },
 "nbformat": 4,
 "nbformat_minor": 2
}
